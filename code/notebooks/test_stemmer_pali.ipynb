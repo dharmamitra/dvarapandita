{
 "cells": [
  {
   "cell_type": "code",
   "execution_count": 1,
   "metadata": {},
   "outputs": [],
   "source": [
    "from stemmer_pali import Stemmer\n",
    "src_dir = \"../test-data/pali/test\""
   ]
  },
  {
   "cell_type": "code",
   "execution_count": 2,
   "metadata": {},
   "outputs": [],
   "source": [
    "s = Stemmer(\"pali\", src_dir, resume_mode=True)"
   ]
  },
  {
   "cell_type": "code",
   "execution_count": 3,
   "metadata": {},
   "outputs": [
    {
     "data": {
      "text/plain": [
       "['▁na', 'mo', '▁tassa', '▁bhagavato', '▁arahato', '▁sammāsambuddh', 'assa']"
      ]
     },
     "execution_count": 3,
     "metadata": {},
     "output_type": "execute_result"
    }
   ],
   "source": [
    "s.tokenizer.encode(\"Namo tassa Bhagavato Arahato Sammāsambuddhassa\".lower(), out_type=str)"
   ]
  },
  {
   "cell_type": "code",
   "execution_count": 4,
   "metadata": {},
   "outputs": [
    {
     "name": "stdout",
     "output_type": "stream",
     "text": [
      "Skipping abhidhamma-ds-ds1--ds1.2_root-pli-ms as it has already been processed (resume mode active)\n"
     ]
    }
   ],
   "source": [
    "df = s.process_file(s.file_paths[0])"
   ]
  },
  {
   "cell_type": "code",
   "execution_count": 5,
   "metadata": {},
   "outputs": [],
   "source": [
    "df"
   ]
  },
  {
   "cell_type": "code",
   "execution_count": 6,
   "metadata": {},
   "outputs": [
    {
     "name": "stdout",
     "output_type": "stream",
     "text": [
      "Skipping abhidhamma-ds-ds1--ds1.2_root-pli-ms as it has already been processed (resume mode active)\n",
      "Skipping abhidhamma-ds-ds1--ds1.1_root-pli-ms as it has already been processed (resume mode active)\n",
      "Skipping abhidhamma-ds-ds1--ds1.3_root-pli-ms as it has already been processed (resume mode active)\n"
     ]
    }
   ],
   "source": [
    "s.process_src_dir()"
   ]
  }
 ],
 "metadata": {
  "kernelspec": {
   "display_name": ".venv",
   "language": "python",
   "name": "python3"
  },
  "language_info": {
   "codemirror_mode": {
    "name": "ipython",
    "version": 3
   },
   "file_extension": ".py",
   "mimetype": "text/x-python",
   "name": "python",
   "nbconvert_exporter": "python",
   "pygments_lexer": "ipython3",
   "version": "3.10.12"
  }
 },
 "nbformat": 4,
 "nbformat_minor": 2
}
