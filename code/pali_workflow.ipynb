{
 "cells": [
  {
   "cell_type": "markdown",
   "metadata": {},
   "source": [
    "0. Prerequisites:\n",
    "  - prepared corpus\n",
    "  - models: Sentencepiece\n",
    "\n",
    "1. Stemming"
   ]
  },
  {
   "cell_type": "markdown",
   "metadata": {},
   "source": [
    "# 1. Stemming"
   ]
  },
  {
   "cell_type": "code",
   "execution_count": 1,
   "metadata": {},
   "outputs": [],
   "source": [
    "from pali.stemmer_pali import Stemmer"
   ]
  },
  {
   "cell_type": "markdown",
   "metadata": {},
   "source": [
    "The stemmer needs:\n",
    "1. language\n",
    "2. SPM model\n",
    "3. Input dir path\n",
    "4. Optional: Output dir path - by default a dir by name \"stemmed\" will be created in the input dir's parent"
   ]
  },
  {
   "cell_type": "code",
   "execution_count": 2,
   "metadata": {},
   "outputs": [
    {
     "name": "stdout",
     "output_type": "stream",
     "text": [
      "Stemmer: found original files 4260\n"
     ]
    }
   ],
   "source": [
    "stmr = Stemmer(\"pli\",\n",
    "               'ref/pali_spm_2024-01-15.model',\n",
    "               \"/home/wo/bn/dvarapandita/test-data/pli/original/\",\n",
    "               )"
   ]
  },
  {
   "cell_type": "code",
   "execution_count": null,
   "metadata": {},
   "outputs": [],
   "source": [
    "stmr.process_src_dir()"
   ]
  },
  {
   "cell_type": "markdown",
   "metadata": {},
   "source": [
    "# 2. Vectorizing"
   ]
  },
  {
   "cell_type": "code",
   "execution_count": 11,
   "metadata": {},
   "outputs": [
    {
     "name": "stdout",
     "output_type": "stream",
     "text": [
      "Warning : `load_model` does not return WordVectorModel or SupervisedModel any more, but a `FastText` object which is very similar.\n",
      "Warning : `load_model` does not return WordVectorModel or SupervisedModel any more, but a `FastText` object which is very similar.\n",
      "NOW PROCESSING kn-snp-vagga5__snp5_2_root-pli-ms\n",
      "NOW PROCESSING kn-bv__bv14_root-pli-ms\n",
      "Saving kn-snp-vagga5__snp5_2_root-pli-ms as ../test-data/pli/vectors/folder0005/kn-snp-vagga5__snp5_2_root-pli-ms.p\n",
      "Warning : `load_model` does not return WordVectorModel or SupervisedModel any more, but a `FastText` object which is very similar.\n",
      "Saving kn-bv__bv14_root-pli-ms as ../test-data/pli/vectors/folder0002/kn-bv__bv14_root-pli-ms.p\n",
      "Warning : `load_model` does not return WordVectorModel or SupervisedModel any more, but a `FastText` object which is very similar.\n",
      "NOW PROCESSING kn-ja__ja226_root-pli-ms\n",
      "Saving kn-ja__ja226_root-pli-ms as ../test-data/pli/vectors/folder0000/kn-ja__ja226_root-pli-ms.p\n",
      "Warning : `load_model` does not return WordVectorModel or SupervisedModel any more, but a `FastText` object which is very similar.\n",
      "^C\n",
      "Traceback (most recent call last):\n",
      "  File \"/home/wo/bn/dvarapandita/code/vectorize_all_pali.py\", line 25, in <module>\n",
      "    pool.map(vectorize_text, list_of_paths)\n",
      "  File \"/usr/lib/python3.10/multiprocessing/pool.py\", line 367, in map\n",
      "    return self._map_async(func, iterable, mapstar, chunksize).get()\n",
      "  File \"/usr/lib/python3.10/multiprocessing/pool.py\", line 768, in get\n",
      "    self.wait(timeout)\n",
      "  File \"/usr/lib/python3.10/multiprocessing/pool.py\", line 765, in wait\n",
      "    self._event.wait(timeout)\n",
      "  File \"/usr/lib/python3.10/threading.py\", line 607, in wait\n",
      "    signaled = self._cond.wait(timeout)\n",
      "  File \"/usr/lib/python3.10/threading.py\", line 320, in wait\n",
      "    waiter.acquire()\n",
      "KeyboardInterrupt\n"
     ]
    }
   ],
   "source": [
    "!source /home/wo/bn/dvarapandita/venv/bin/activate && \\\n",
    "INPUT_DIR_PATH=\"/home/wo/bn/dvarapandita/test-data/pli/stemmed\" \\\n",
    "OUTPUT_DIR_NAME=\"vectors\" \\\n",
    "N_BUCKETS=10 \\\n",
    "N_PROC=2 \\\n",
    "python vectorize_all_pali.py"
   ]
  }
 ],
 "metadata": {
  "kernelspec": {
   "display_name": "dvarapandita-jupyter",
   "language": "python",
   "name": "dvarapandita"
  },
  "language_info": {
   "codemirror_mode": {
    "name": "ipython",
    "version": 3
   },
   "file_extension": ".py",
   "mimetype": "text/x-python",
   "name": "python",
   "nbconvert_exporter": "python",
   "pygments_lexer": "ipython3",
   "version": "3.10.12"
  }
 },
 "nbformat": 4,
 "nbformat_minor": 2
}
