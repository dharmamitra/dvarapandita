{
 "cells": [
  {
   "cell_type": "code",
   "execution_count": 1,
   "metadata": {},
   "outputs": [],
   "source": [
    "from stemmer_pali import Stemmer\n",
    "src_dir = \"../test-data/pali/test\""
   ]
  },
  {
   "cell_type": "code",
   "execution_count": 2,
   "metadata": {},
   "outputs": [],
   "source": [
    "s = Stemmer(\"pali\", src_dir, resume_mode=False)"
   ]
  },
  {
   "cell_type": "code",
   "execution_count": 3,
   "metadata": {},
   "outputs": [
    {
     "data": {
      "text/plain": [
       "['▁na', 'mo', '▁tassa', '▁bhagavato', '▁arahato', '▁sammāsambuddh', 'assa']"
      ]
     },
     "execution_count": 3,
     "metadata": {},
     "output_type": "execute_result"
    }
   ],
   "source": [
    "s.tokenizer.encode(\"Namo tassa Bhagavato Arahato Sammāsambuddhassa\".lower(), out_type=str)"
   ]
  },
  {
   "cell_type": "code",
   "execution_count": 4,
   "metadata": {},
   "outputs": [],
   "source": [
    "df = s.process_file(s.file_paths[0])"
   ]
  },
  {
   "cell_type": "code",
   "execution_count": 5,
   "metadata": {},
   "outputs": [
    {
     "data": {
      "text/html": [
       "<div>\n",
       "<style scoped>\n",
       "    .dataframe tbody tr th:only-of-type {\n",
       "        vertical-align: middle;\n",
       "    }\n",
       "\n",
       "    .dataframe tbody tr th {\n",
       "        vertical-align: top;\n",
       "    }\n",
       "\n",
       "    .dataframe thead th {\n",
       "        text-align: right;\n",
       "    }\n",
       "</style>\n",
       "<table border=\"1\" class=\"dataframe\">\n",
       "  <thead>\n",
       "    <tr style=\"text-align: right;\">\n",
       "      <th></th>\n",
       "      <th>segmentId</th>\n",
       "      <th>original_text</th>\n",
       "      <th>stemmed_segments</th>\n",
       "    </tr>\n",
       "  </thead>\n",
       "  <tbody>\n",
       "    <tr>\n",
       "      <th>0</th>\n",
       "      <td>ds1.2:0.1</td>\n",
       "      <td>Dhammasaṅgaṇī</td>\n",
       "      <td>▁dhamma saṃ gaṇ ī</td>\n",
       "    </tr>\n",
       "    <tr>\n",
       "      <th>1</th>\n",
       "      <td>ds1.2:0.2</td>\n",
       "      <td>Dukamātikā</td>\n",
       "      <td>▁duk a mātik ā</td>\n",
       "    </tr>\n",
       "    <tr>\n",
       "      <th>2</th>\n",
       "      <td>ds1.2:1.0.1</td>\n",
       "      <td>Hetugocchaka</td>\n",
       "      <td>▁hetu go cch aka</td>\n",
       "    </tr>\n",
       "    <tr>\n",
       "      <th>3</th>\n",
       "      <td>ds1.2:1.0.2</td>\n",
       "      <td>1. Hetuduka</td>\n",
       "      <td>▁hetu duk a</td>\n",
       "    </tr>\n",
       "    <tr>\n",
       "      <th>4</th>\n",
       "      <td>ds1.2:1.1</td>\n",
       "      <td>Hetū dhammā. (&lt;b&gt;1059, 1077, 1441&lt;/b&gt;)</td>\n",
       "      <td>▁ hetū ▁dhammā</td>\n",
       "    </tr>\n",
       "    <tr>\n",
       "      <th>...</th>\n",
       "      <td>...</td>\n",
       "      <td>...</td>\n",
       "      <td>...</td>\n",
       "    </tr>\n",
       "    <tr>\n",
       "      <th>324</th>\n",
       "      <td>ds1.2:199.0</td>\n",
       "      <td>18. Saraṇaduka</td>\n",
       "      <td>▁saraṇ aduk a</td>\n",
       "    </tr>\n",
       "    <tr>\n",
       "      <th>325</th>\n",
       "      <td>ds1.2:199.1</td>\n",
       "      <td>Saraṇā dhammā. (&lt;b&gt;1301, 1615&lt;/b&gt;)</td>\n",
       "      <td>▁saraṇ ā ▁dhammā</td>\n",
       "    </tr>\n",
       "    <tr>\n",
       "      <th>326</th>\n",
       "      <td>ds1.2:200.1</td>\n",
       "      <td>Araṇā dhammā. (&lt;b&gt;1302, 1616&lt;/b&gt;)</td>\n",
       "      <td>▁araṇ ā ▁dhammā</td>\n",
       "    </tr>\n",
       "    <tr>\n",
       "      <th>327</th>\n",
       "      <td>ds1.2:200.2</td>\n",
       "      <td>Piṭṭhidukaṁ.</td>\n",
       "      <td>▁piṭṭhi duk aṃ</td>\n",
       "    </tr>\n",
       "    <tr>\n",
       "      <th>328</th>\n",
       "      <td>ds1.2:200.3</td>\n",
       "      <td>Abhidhammadukamātikā.</td>\n",
       "      <td>▁abhidhamm aduk a mātik ā</td>\n",
       "    </tr>\n",
       "  </tbody>\n",
       "</table>\n",
       "<p>329 rows × 3 columns</p>\n",
       "</div>"
      ],
      "text/plain": [
       "       segmentId                            original_text  \\\n",
       "0      ds1.2:0.1                           Dhammasaṅgaṇī    \n",
       "1      ds1.2:0.2                              Dukamātikā    \n",
       "2    ds1.2:1.0.1                            Hetugocchaka    \n",
       "3    ds1.2:1.0.2                             1. Hetuduka    \n",
       "4      ds1.2:1.1  Hetū dhammā. (<b>1059, 1077, 1441</b>)    \n",
       "..           ...                                      ...   \n",
       "324  ds1.2:199.0                          18. Saraṇaduka    \n",
       "325  ds1.2:199.1      Saraṇā dhammā. (<b>1301, 1615</b>)    \n",
       "326  ds1.2:200.1       Araṇā dhammā. (<b>1302, 1616</b>)    \n",
       "327  ds1.2:200.2                            Piṭṭhidukaṁ.    \n",
       "328  ds1.2:200.3                   Abhidhammadukamātikā.    \n",
       "\n",
       "              stemmed_segments  \n",
       "0            ▁dhamma saṃ gaṇ ī  \n",
       "1               ▁duk a mātik ā  \n",
       "2             ▁hetu go cch aka  \n",
       "3                  ▁hetu duk a  \n",
       "4               ▁ hetū ▁dhammā  \n",
       "..                         ...  \n",
       "324              ▁saraṇ aduk a  \n",
       "325           ▁saraṇ ā ▁dhammā  \n",
       "326            ▁araṇ ā ▁dhammā  \n",
       "327             ▁piṭṭhi duk aṃ  \n",
       "328  ▁abhidhamm aduk a mātik ā  \n",
       "\n",
       "[329 rows x 3 columns]"
      ]
     },
     "execution_count": 5,
     "metadata": {},
     "output_type": "execute_result"
    }
   ],
   "source": [
    "df"
   ]
  },
  {
   "cell_type": "code",
   "execution_count": 6,
   "metadata": {},
   "outputs": [],
   "source": [
    "s.process_src_dir()"
   ]
  }
 ],
 "metadata": {
  "kernelspec": {
   "display_name": "dvarapandita-jupyter",
   "language": "python",
   "name": "dvarapandita"
  },
  "language_info": {
   "codemirror_mode": {
    "name": "ipython",
    "version": 3
   },
   "file_extension": ".py",
   "mimetype": "text/x-python",
   "name": "python",
   "nbconvert_exporter": "python",
   "pygments_lexer": "ipython3",
   "version": "3.10.12"
  }
 },
 "nbformat": 4,
 "nbformat_minor": 2
}
